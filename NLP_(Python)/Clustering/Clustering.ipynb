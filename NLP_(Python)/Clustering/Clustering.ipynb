{
  "nbformat": 4,
  "nbformat_minor": 0,
  "metadata": {
    "colab": {
      "name": "W5 assignment summer 2022.ipynb",
      "provenance": [],
      "collapsed_sections": []
    },
    "kernelspec": {
      "name": "python3",
      "display_name": "Python 3"
    },
    "language_info": {
      "name": "python"
    }
  },
  "cells": [
    {
      "cell_type": "markdown",
      "metadata": {
        "id": "pN9VTxzZE2nE"
      },
      "source": [
        "# 1. Load the data\n",
        "\n",
        "Use the moviereviews.tsv. Load the data into a dataframe df. Explore the data, display the top 5 records, display dimensionality i.e. how many records and columns."
      ]
    },
    {
      "cell_type": "code",
      "metadata": {
        "id": "fpeI7uXByXXH"
      },
      "source": [
        ""
      ],
      "execution_count": null,
      "outputs": []
    },
    {
      "cell_type": "markdown",
      "metadata": {
        "id": "7D2my2COE6pp"
      },
      "source": [
        "# 2. Pre-process the data with TF-IDF Vectorizer\n",
        "\n",
        "Define max_df, min_df, and use stop_words='english'. Display feature names or vocabulary."
      ]
    },
    {
      "cell_type": "code",
      "metadata": {
        "id": "O9KLlTRIzxGo"
      },
      "source": [
        ""
      ],
      "execution_count": null,
      "outputs": []
    },
    {
      "cell_type": "markdown",
      "metadata": {
        "id": "qyFDzevx04AS"
      },
      "source": [
        "# 3. Perform Hierarchical Agglomerative Clustering"
      ]
    },
    {
      "cell_type": "markdown",
      "metadata": {
        "id": "IiHbgu554ftr"
      },
      "source": [
        "## 3.1 Fit the tfidf generated dtm to Agglomerative model \n",
        "\n",
        "Use the best number of cluster found from dendrogram if feasible. Otherwise you can try a few different numbers and use the one that makes explainable clusters."
      ]
    },
    {
      "cell_type": "code",
      "metadata": {
        "id": "N8s1pwt44fiA"
      },
      "source": [
        ""
      ],
      "execution_count": null,
      "outputs": []
    },
    {
      "cell_type": "markdown",
      "source": [
        "## 3.2 Add the resulting cluster column to dataframe using the name \"Agglomerative_Cluster\"."
      ],
      "metadata": {
        "id": "7lRgZqEXip0t"
      }
    },
    {
      "cell_type": "code",
      "source": [
        ""
      ],
      "metadata": {
        "id": "eUMG7HUIiuA9"
      },
      "execution_count": null,
      "outputs": []
    },
    {
      "cell_type": "markdown",
      "metadata": {
        "id": "vOUB1y1p1JOD"
      },
      "source": [
        "## 3.3 Draw Dendrogram"
      ]
    },
    {
      "cell_type": "code",
      "metadata": {
        "id": "-GtZlVzw4qxj"
      },
      "source": [
        ""
      ],
      "execution_count": null,
      "outputs": []
    },
    {
      "cell_type": "markdown",
      "metadata": {
        "id": "qrvBS-7J_-B-"
      },
      "source": [
        "## 3.4 Write the documents belong to each cluster in a separate csv file."
      ]
    },
    {
      "cell_type": "code",
      "metadata": {
        "id": "kzbumW28ADWP"
      },
      "source": [
        ""
      ],
      "execution_count": null,
      "outputs": []
    },
    {
      "cell_type": "markdown",
      "metadata": {
        "id": "_RapEokQFGNo"
      },
      "source": [
        "# 4. Perform K-means clustering"
      ]
    },
    {
      "cell_type": "markdown",
      "metadata": {
        "id": "YTJYoXjX0G5M"
      },
      "source": [
        "## 4.1 Look for the best k using elbow chart\n",
        "It is okay if your elbow chart doesn't show an obvious elbow point using kneed. If so then just try a few different k and use the one that generate the most explainable clusters."
      ]
    },
    {
      "cell_type": "code",
      "metadata": {
        "id": "APtxi5aG01hO"
      },
      "source": [
        ""
      ],
      "execution_count": null,
      "outputs": []
    },
    {
      "cell_type": "markdown",
      "metadata": {
        "id": "Svzz-RQA0IxH"
      },
      "source": [
        "## 4.2 Fit the tfidf generated dtm to K-means model with the best k"
      ]
    },
    {
      "cell_type": "code",
      "metadata": {
        "id": "afVoZR3G0z9A"
      },
      "source": [
        ""
      ],
      "execution_count": null,
      "outputs": []
    },
    {
      "cell_type": "markdown",
      "metadata": {
        "id": "I9MUQ7uP5p6Y"
      },
      "source": [
        "## 4.3 Add the resulting cluster column to dataframe using the name \"K-means_Cluster\"."
      ]
    },
    {
      "cell_type": "code",
      "metadata": {
        "id": "WYyuIOAB5wZD"
      },
      "source": [
        ""
      ],
      "execution_count": null,
      "outputs": []
    },
    {
      "cell_type": "markdown",
      "metadata": {
        "id": "6CPO-gRg0fKw"
      },
      "source": [
        "## 4.4 Plot the clusters"
      ]
    },
    {
      "cell_type": "code",
      "metadata": {
        "id": "g3n8oWAq02EH"
      },
      "source": [
        ""
      ],
      "execution_count": null,
      "outputs": []
    },
    {
      "cell_type": "markdown",
      "metadata": {
        "id": "6nMFphsp0tBg"
      },
      "source": [
        "## 4.5 Make a word cloud for each cluster"
      ]
    },
    {
      "cell_type": "code",
      "metadata": {
        "id": "pu-2jXDd02n4"
      },
      "source": [
        ""
      ],
      "execution_count": null,
      "outputs": []
    }
  ]
}
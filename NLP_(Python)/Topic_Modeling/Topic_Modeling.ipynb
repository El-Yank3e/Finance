{
  "nbformat": 4,
  "nbformat_minor": 0,
  "metadata": {
    "colab": {
      "name": "W6 assignment summer 2022.ipynb",
      "provenance": [],
      "collapsed_sections": []
    },
    "kernelspec": {
      "name": "python3",
      "display_name": "Python 3"
    },
    "language_info": {
      "name": "python"
    }
  },
  "cells": [
    {
      "cell_type": "markdown",
      "metadata": {
        "id": "w6YdVjAwq9-K"
      },
      "source": [
        "# Topic Modeling Assignment\n",
        "\n",
        "In this assignment, you will perform topic modeling to the moviereviews.tsv, try to find about 10-20 topics to assign these text documents to."
      ]
    },
    {
      "cell_type": "markdown",
      "metadata": {
        "id": "WXk1XiHqriEB"
      },
      "source": [
        "## Task 1  Import library, read the data file, display top 5 records, and display the full text of the first record.\n",
        "\n"
      ]
    },
    {
      "cell_type": "markdown",
      "metadata": {
        "id": "wIHWI8XRMIGv"
      },
      "source": [
        "Provide the source of the dataset:"
      ]
    },
    {
      "cell_type": "code",
      "metadata": {
        "id": "g0LgokpIq7l9"
      },
      "source": [
        "# load library and read file"
      ],
      "execution_count": null,
      "outputs": []
    },
    {
      "cell_type": "code",
      "metadata": {
        "id": "44s7YDEeMRiQ"
      },
      "source": [
        "# display top 5 records"
      ],
      "execution_count": null,
      "outputs": []
    },
    {
      "cell_type": "code",
      "metadata": {
        "id": "7MKO9JYAMRth"
      },
      "source": [
        "# display full text of the first record"
      ],
      "execution_count": null,
      "outputs": []
    },
    {
      "cell_type": "markdown",
      "metadata": {
        "id": "lHoNhdaOrtbT"
      },
      "source": [
        "## Task 2 LDA Preprocessing"
      ]
    },
    {
      "cell_type": "code",
      "metadata": {
        "id": "vwxcbp4VsAUx"
      },
      "source": [
        ""
      ],
      "execution_count": null,
      "outputs": []
    },
    {
      "cell_type": "markdown",
      "metadata": {
        "id": "tqFKjDBusAfF"
      },
      "source": [
        "## Task 3 LDA model fitting\n",
        "\n",
        "If you decide to have 20 topics (20 is just used from here on as an example) then use 20 components.\n",
        "\n",
        "This may take a while to run so be patient."
      ]
    },
    {
      "cell_type": "code",
      "metadata": {
        "id": "v6x7KaFDsZZ7"
      },
      "source": [
        ""
      ],
      "execution_count": null,
      "outputs": []
    },
    {
      "cell_type": "markdown",
      "metadata": {
        "id": "xKau24ncMqqN"
      },
      "source": [
        "## Task 4 Display the top 15 most common words for each of the 20 topics. Interpret each topic (what is it about)."
      ]
    },
    {
      "cell_type": "code",
      "metadata": {
        "id": "6Z0AutblM7Ut"
      },
      "source": [
        ""
      ],
      "execution_count": null,
      "outputs": []
    },
    {
      "cell_type": "markdown",
      "metadata": {
        "id": "NvNjL0pEsZib"
      },
      "source": [
        "## Task 5 Add a new column 'LDA_Category' to the original dataframe that labels each record into one of the 20 topics.\n",
        "\n"
      ]
    },
    {
      "cell_type": "code",
      "metadata": {
        "id": "LnYeaPzaswaU"
      },
      "source": [
        ""
      ],
      "execution_count": null,
      "outputs": []
    },
    {
      "cell_type": "markdown",
      "metadata": {
        "id": "LXyG2SXwswla"
      },
      "source": [
        "## Task 6 NMF Preprocessing"
      ]
    },
    {
      "cell_type": "code",
      "metadata": {
        "id": "sByGw2E6s0DY"
      },
      "source": [
        ""
      ],
      "execution_count": null,
      "outputs": []
    },
    {
      "cell_type": "markdown",
      "metadata": {
        "id": "JoKjwCPSs0QC"
      },
      "source": [
        "## Task 7 NMF model fitting\n",
        "\n",
        "Use the same number of components. If you used 20 components for LDA then use 20 components for NMF."
      ]
    },
    {
      "cell_type": "code",
      "metadata": {
        "id": "Hpwaes9fs7lK"
      },
      "source": [
        ""
      ],
      "execution_count": null,
      "outputs": []
    },
    {
      "cell_type": "markdown",
      "metadata": {
        "id": "yf_8YyUINEVs"
      },
      "source": [
        "## Task 8 Display the top 15 most common words for each of the 20 topics. Interpret each topic (what is it about)."
      ]
    },
    {
      "cell_type": "code",
      "metadata": {
        "id": "KoSEUWHBNFYo"
      },
      "source": [
        ""
      ],
      "execution_count": null,
      "outputs": []
    },
    {
      "cell_type": "markdown",
      "metadata": {
        "id": "Tu9pjN16s76J"
      },
      "source": [
        "## Task 9 Add a new column 'NMF_Category' to the dataframe that labels each record into one of the 20 topics, and display top 10 records."
      ]
    },
    {
      "cell_type": "code",
      "metadata": {
        "id": "BwI4i9u1tO4w"
      },
      "source": [
        ""
      ],
      "execution_count": null,
      "outputs": []
    },
    {
      "cell_type": "markdown",
      "metadata": {
        "id": "tO-rlu8ZLEi0"
      },
      "source": [
        "## Task 10 What you think about the topics provided by LDA vs. NMF, which one is better in your opinion? Can you provide some example(s)?"
      ]
    }
  ]
}
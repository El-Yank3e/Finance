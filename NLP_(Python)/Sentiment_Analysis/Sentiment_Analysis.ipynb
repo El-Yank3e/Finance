{
  "nbformat": 4,
  "nbformat_minor": 0,
  "metadata": {
    "colab": {
      "name": "W7 assignment summer 2022.ipynb",
      "provenance": [],
      "collapsed_sections": [],
      "toc_visible": true
    },
    "kernelspec": {
      "name": "python3",
      "display_name": "Python 3"
    },
    "language_info": {
      "name": "python"
    }
  },
  "cells": [
    {
      "cell_type": "markdown",
      "metadata": {
        "id": "5UnFcPuWOUvb"
      },
      "source": [
        "# Sentiment Analysis Assignment"
      ]
    },
    {
      "cell_type": "markdown",
      "source": [
        "## Task 1: Write three movie reviews \n",
        "Write at least three movie reviews (recent movies would be great) on your own, including one positive (equivalent to 4 or 5 star), one negative (1 or 2 star), and one neutral (3 star). Save the reviews in a dataframe df with three columns: release_date, movie_name, and review. <br>\n",
        "You do not need any preprocessing. <br>"
      ],
      "metadata": {
        "id": "0ASt0elm74UJ"
      }
    },
    {
      "cell_type": "code",
      "source": [
        "# create dataframe\n",
        "\n",
        "# display dataframe"
      ],
      "metadata": {
        "colab": {
          "base_uri": "https://localhost:8080/",
          "height": 175
        },
        "id": "gkJ5cKR0AQjj",
        "outputId": "8c79ef46-b5f5-4737-c835-899c62d463af"
      },
      "execution_count": null,
      "outputs": [
        {
          "output_type": "execute_result",
          "data": {
            "text/plain": [
              "   release_date   movie_name  \\\n",
              "0          2022  Black Widow   \n",
              "1          2022  Black Widow   \n",
              "2          2022  Black Widow   \n",
              "3          2022  Black Widow   \n",
              "\n",
              "                                              review  \n",
              "0  Black Widow spins a tale of action, espionage ...  \n",
              "1  In all the ways that matter to an MCU fan, Bla...  \n",
              "2  Black Widow never feels more than just a footn...  \n",
              "3  Black Widow is Marvels take on a somewhat sill...  "
            ],
            "text/html": [
              "\n",
              "  <div id=\"df-dd681098-34ed-4afd-bfcc-4b4bcaea4037\">\n",
              "    <div class=\"colab-df-container\">\n",
              "      <div>\n",
              "<style scoped>\n",
              "    .dataframe tbody tr th:only-of-type {\n",
              "        vertical-align: middle;\n",
              "    }\n",
              "\n",
              "    .dataframe tbody tr th {\n",
              "        vertical-align: top;\n",
              "    }\n",
              "\n",
              "    .dataframe thead th {\n",
              "        text-align: right;\n",
              "    }\n",
              "</style>\n",
              "<table border=\"1\" class=\"dataframe\">\n",
              "  <thead>\n",
              "    <tr style=\"text-align: right;\">\n",
              "      <th></th>\n",
              "      <th>release_date</th>\n",
              "      <th>movie_name</th>\n",
              "      <th>review</th>\n",
              "    </tr>\n",
              "  </thead>\n",
              "  <tbody>\n",
              "    <tr>\n",
              "      <th>0</th>\n",
              "      <td>2022</td>\n",
              "      <td>Black Widow</td>\n",
              "      <td>Black Widow spins a tale of action, espionage ...</td>\n",
              "    </tr>\n",
              "    <tr>\n",
              "      <th>1</th>\n",
              "      <td>2022</td>\n",
              "      <td>Black Widow</td>\n",
              "      <td>In all the ways that matter to an MCU fan, Bla...</td>\n",
              "    </tr>\n",
              "    <tr>\n",
              "      <th>2</th>\n",
              "      <td>2022</td>\n",
              "      <td>Black Widow</td>\n",
              "      <td>Black Widow never feels more than just a footn...</td>\n",
              "    </tr>\n",
              "    <tr>\n",
              "      <th>3</th>\n",
              "      <td>2022</td>\n",
              "      <td>Black Widow</td>\n",
              "      <td>Black Widow is Marvels take on a somewhat sill...</td>\n",
              "    </tr>\n",
              "  </tbody>\n",
              "</table>\n",
              "</div>\n",
              "      <button class=\"colab-df-convert\" onclick=\"convertToInteractive('df-dd681098-34ed-4afd-bfcc-4b4bcaea4037')\"\n",
              "              title=\"Convert this dataframe to an interactive table.\"\n",
              "              style=\"display:none;\">\n",
              "        \n",
              "  <svg xmlns=\"http://www.w3.org/2000/svg\" height=\"24px\"viewBox=\"0 0 24 24\"\n",
              "       width=\"24px\">\n",
              "    <path d=\"M0 0h24v24H0V0z\" fill=\"none\"/>\n",
              "    <path d=\"M18.56 5.44l.94 2.06.94-2.06 2.06-.94-2.06-.94-.94-2.06-.94 2.06-2.06.94zm-11 1L8.5 8.5l.94-2.06 2.06-.94-2.06-.94L8.5 2.5l-.94 2.06-2.06.94zm10 10l.94 2.06.94-2.06 2.06-.94-2.06-.94-.94-2.06-.94 2.06-2.06.94z\"/><path d=\"M17.41 7.96l-1.37-1.37c-.4-.4-.92-.59-1.43-.59-.52 0-1.04.2-1.43.59L10.3 9.45l-7.72 7.72c-.78.78-.78 2.05 0 2.83L4 21.41c.39.39.9.59 1.41.59.51 0 1.02-.2 1.41-.59l7.78-7.78 2.81-2.81c.8-.78.8-2.07 0-2.86zM5.41 20L4 18.59l7.72-7.72 1.47 1.35L5.41 20z\"/>\n",
              "  </svg>\n",
              "      </button>\n",
              "      \n",
              "  <style>\n",
              "    .colab-df-container {\n",
              "      display:flex;\n",
              "      flex-wrap:wrap;\n",
              "      gap: 12px;\n",
              "    }\n",
              "\n",
              "    .colab-df-convert {\n",
              "      background-color: #E8F0FE;\n",
              "      border: none;\n",
              "      border-radius: 50%;\n",
              "      cursor: pointer;\n",
              "      display: none;\n",
              "      fill: #1967D2;\n",
              "      height: 32px;\n",
              "      padding: 0 0 0 0;\n",
              "      width: 32px;\n",
              "    }\n",
              "\n",
              "    .colab-df-convert:hover {\n",
              "      background-color: #E2EBFA;\n",
              "      box-shadow: 0px 1px 2px rgba(60, 64, 67, 0.3), 0px 1px 3px 1px rgba(60, 64, 67, 0.15);\n",
              "      fill: #174EA6;\n",
              "    }\n",
              "\n",
              "    [theme=dark] .colab-df-convert {\n",
              "      background-color: #3B4455;\n",
              "      fill: #D2E3FC;\n",
              "    }\n",
              "\n",
              "    [theme=dark] .colab-df-convert:hover {\n",
              "      background-color: #434B5C;\n",
              "      box-shadow: 0px 1px 3px 1px rgba(0, 0, 0, 0.15);\n",
              "      filter: drop-shadow(0px 1px 2px rgba(0, 0, 0, 0.3));\n",
              "      fill: #FFFFFF;\n",
              "    }\n",
              "  </style>\n",
              "\n",
              "      <script>\n",
              "        const buttonEl =\n",
              "          document.querySelector('#df-dd681098-34ed-4afd-bfcc-4b4bcaea4037 button.colab-df-convert');\n",
              "        buttonEl.style.display =\n",
              "          google.colab.kernel.accessAllowed ? 'block' : 'none';\n",
              "\n",
              "        async function convertToInteractive(key) {\n",
              "          const element = document.querySelector('#df-dd681098-34ed-4afd-bfcc-4b4bcaea4037');\n",
              "          const dataTable =\n",
              "            await google.colab.kernel.invokeFunction('convertToInteractive',\n",
              "                                                     [key], {});\n",
              "          if (!dataTable) return;\n",
              "\n",
              "          const docLinkHtml = 'Like what you see? Visit the ' +\n",
              "            '<a target=\"_blank\" href=https://colab.research.google.com/notebooks/data_table.ipynb>data table notebook</a>'\n",
              "            + ' to learn more about interactive tables.';\n",
              "          element.innerHTML = '';\n",
              "          dataTable['output_type'] = 'display_data';\n",
              "          await google.colab.output.renderOutput(dataTable, element);\n",
              "          const docLink = document.createElement('div');\n",
              "          docLink.innerHTML = docLinkHtml;\n",
              "          element.appendChild(docLink);\n",
              "        }\n",
              "      </script>\n",
              "    </div>\n",
              "  </div>\n",
              "  "
            ]
          },
          "metadata": {},
          "execution_count": 91
        }
      ]
    },
    {
      "cell_type": "markdown",
      "metadata": {
        "id": "90EvhxyXOr_1"
      },
      "source": [
        "## Task 2: Perform VADER Sentiment Analysis on the reviews\n",
        "Write code that returns a set of SentimentIntensityAnalyzer polarity scores on of your movie reviews."
      ]
    },
    {
      "cell_type": "code",
      "metadata": {
        "id": "vnmR-BXOP1Et",
        "colab": {
          "base_uri": "https://localhost:8080/"
        },
        "outputId": "ac2df488-09c0-4149-8558-b32b316f5ba9"
      },
      "source": [
        "# Import nltk and download vader lexicon\n"
      ],
      "execution_count": null,
      "outputs": [
        {
          "output_type": "stream",
          "name": "stderr",
          "text": [
            "[nltk_data] Downloading package vader_lexicon to /root/nltk_data...\n",
            "[nltk_data]   Package vader_lexicon is already up-to-date!\n"
          ]
        },
        {
          "output_type": "execute_result",
          "data": {
            "text/plain": [
              "True"
            ]
          },
          "metadata": {},
          "execution_count": 92
        }
      ]
    },
    {
      "cell_type": "code",
      "metadata": {
        "id": "U-cy_dAvTINF"
      },
      "source": [
        "# Import SentimentIntensityAnalyzer and create an sid object\n"
      ],
      "execution_count": null,
      "outputs": []
    },
    {
      "cell_type": "code",
      "metadata": {
        "id": "hytny-qPP4CG",
        "colab": {
          "base_uri": "https://localhost:8080/"
        },
        "outputId": "34ac5667-0e92-4ff0-8ddc-b994fe882838"
      },
      "source": [
        "# Obtain the sid scores for your first review\n"
      ],
      "execution_count": null,
      "outputs": [
        {
          "output_type": "stream",
          "name": "stdout",
          "text": [
            "Black Widow spins a tale of action, espionage ... and family.\n"
          ]
        },
        {
          "output_type": "execute_result",
          "data": {
            "text/plain": [
              "{'compound': 0.0, 'neg': 0.0, 'neu': 1.0, 'pos': 0.0}"
            ]
          },
          "metadata": {},
          "execution_count": 94
        }
      ]
    },
    {
      "cell_type": "markdown",
      "metadata": {
        "id": "Zepc7l6vP8vU"
      },
      "source": [
        "## Task 3: Write two rating functions\n",
        "Write a function sentiment_rating() that takes in a review and returns sentiment 'positive' (compound >= 0), 'negative' (< 0) or 'neutral' (= 0) based on the compound score. <br>\n",
        "\n",
        "Write a function star_rating() that takes in a review and returns star ratings from 1 to 5 based on the compound score. Compound <-0.25 is 1 star, [-0.25, 0) is 2 star, [0, 0.25) is 3 star, [0.25, 0.75) is 4 star, and >= 0.75 is 5 star."
      ]
    },
    {
      "cell_type": "code",
      "metadata": {
        "id": "zh1IZ8bNP6Qe"
      },
      "source": [
        "# sentiment_rating function\n",
        "\n",
        "  "
      ],
      "execution_count": null,
      "outputs": []
    },
    {
      "cell_type": "code",
      "metadata": {
        "id": "2EGJgKvUF9IC"
      },
      "source": [
        "# star_rating function\n",
        "\n",
        "  "
      ],
      "execution_count": null,
      "outputs": []
    },
    {
      "cell_type": "markdown",
      "metadata": {
        "id": "eMKrE_3nQUpQ"
      },
      "source": [
        "## Task 4: Call the functions on your movie reviews\n",
        "Append the results to the dataframe as a new column VADER_compound, VADER_sentiment, and VADER_Star."
      ]
    },
    {
      "cell_type": "code",
      "source": [
        ""
      ],
      "metadata": {
        "colab": {
          "base_uri": "https://localhost:8080/",
          "height": 175
        },
        "id": "v2xKc6-rCqXX",
        "outputId": "1ce2ce4c-81d3-4d31-b0cc-2e6cb4e36a70"
      },
      "execution_count": null,
      "outputs": [
        {
          "output_type": "execute_result",
          "data": {
            "text/plain": [
              "   release_date   movie_name  \\\n",
              "0          2022  Black Widow   \n",
              "1          2022  Black Widow   \n",
              "2          2022  Black Widow   \n",
              "3          2022  Black Widow   \n",
              "\n",
              "                                              review  VADER_compound  \\\n",
              "0  Black Widow spins a tale of action, espionage ...          0.0000   \n",
              "1  In all the ways that matter to an MCU fan, Bla...          0.3400   \n",
              "2  Black Widow never feels more than just a footn...         -0.2960   \n",
              "3  Black Widow is Marvels take on a somewhat sill...          0.8956   \n",
              "\n",
              "  VADER_sentiment  VADER_star  \n",
              "0         Neutral           3  \n",
              "1         Postive           4  \n",
              "2        Negative           1  \n",
              "3         Postive           5  "
            ],
            "text/html": [
              "\n",
              "  <div id=\"df-69b05bb0-dcc9-4918-9c11-57a01ffc8565\">\n",
              "    <div class=\"colab-df-container\">\n",
              "      <div>\n",
              "<style scoped>\n",
              "    .dataframe tbody tr th:only-of-type {\n",
              "        vertical-align: middle;\n",
              "    }\n",
              "\n",
              "    .dataframe tbody tr th {\n",
              "        vertical-align: top;\n",
              "    }\n",
              "\n",
              "    .dataframe thead th {\n",
              "        text-align: right;\n",
              "    }\n",
              "</style>\n",
              "<table border=\"1\" class=\"dataframe\">\n",
              "  <thead>\n",
              "    <tr style=\"text-align: right;\">\n",
              "      <th></th>\n",
              "      <th>release_date</th>\n",
              "      <th>movie_name</th>\n",
              "      <th>review</th>\n",
              "      <th>VADER_compound</th>\n",
              "      <th>VADER_sentiment</th>\n",
              "      <th>VADER_star</th>\n",
              "    </tr>\n",
              "  </thead>\n",
              "  <tbody>\n",
              "    <tr>\n",
              "      <th>0</th>\n",
              "      <td>2022</td>\n",
              "      <td>Black Widow</td>\n",
              "      <td>Black Widow spins a tale of action, espionage ...</td>\n",
              "      <td>0.0000</td>\n",
              "      <td>Neutral</td>\n",
              "      <td>3</td>\n",
              "    </tr>\n",
              "    <tr>\n",
              "      <th>1</th>\n",
              "      <td>2022</td>\n",
              "      <td>Black Widow</td>\n",
              "      <td>In all the ways that matter to an MCU fan, Bla...</td>\n",
              "      <td>0.3400</td>\n",
              "      <td>Postive</td>\n",
              "      <td>4</td>\n",
              "    </tr>\n",
              "    <tr>\n",
              "      <th>2</th>\n",
              "      <td>2022</td>\n",
              "      <td>Black Widow</td>\n",
              "      <td>Black Widow never feels more than just a footn...</td>\n",
              "      <td>-0.2960</td>\n",
              "      <td>Negative</td>\n",
              "      <td>1</td>\n",
              "    </tr>\n",
              "    <tr>\n",
              "      <th>3</th>\n",
              "      <td>2022</td>\n",
              "      <td>Black Widow</td>\n",
              "      <td>Black Widow is Marvels take on a somewhat sill...</td>\n",
              "      <td>0.8956</td>\n",
              "      <td>Postive</td>\n",
              "      <td>5</td>\n",
              "    </tr>\n",
              "  </tbody>\n",
              "</table>\n",
              "</div>\n",
              "      <button class=\"colab-df-convert\" onclick=\"convertToInteractive('df-69b05bb0-dcc9-4918-9c11-57a01ffc8565')\"\n",
              "              title=\"Convert this dataframe to an interactive table.\"\n",
              "              style=\"display:none;\">\n",
              "        \n",
              "  <svg xmlns=\"http://www.w3.org/2000/svg\" height=\"24px\"viewBox=\"0 0 24 24\"\n",
              "       width=\"24px\">\n",
              "    <path d=\"M0 0h24v24H0V0z\" fill=\"none\"/>\n",
              "    <path d=\"M18.56 5.44l.94 2.06.94-2.06 2.06-.94-2.06-.94-.94-2.06-.94 2.06-2.06.94zm-11 1L8.5 8.5l.94-2.06 2.06-.94-2.06-.94L8.5 2.5l-.94 2.06-2.06.94zm10 10l.94 2.06.94-2.06 2.06-.94-2.06-.94-.94-2.06-.94 2.06-2.06.94z\"/><path d=\"M17.41 7.96l-1.37-1.37c-.4-.4-.92-.59-1.43-.59-.52 0-1.04.2-1.43.59L10.3 9.45l-7.72 7.72c-.78.78-.78 2.05 0 2.83L4 21.41c.39.39.9.59 1.41.59.51 0 1.02-.2 1.41-.59l7.78-7.78 2.81-2.81c.8-.78.8-2.07 0-2.86zM5.41 20L4 18.59l7.72-7.72 1.47 1.35L5.41 20z\"/>\n",
              "  </svg>\n",
              "      </button>\n",
              "      \n",
              "  <style>\n",
              "    .colab-df-container {\n",
              "      display:flex;\n",
              "      flex-wrap:wrap;\n",
              "      gap: 12px;\n",
              "    }\n",
              "\n",
              "    .colab-df-convert {\n",
              "      background-color: #E8F0FE;\n",
              "      border: none;\n",
              "      border-radius: 50%;\n",
              "      cursor: pointer;\n",
              "      display: none;\n",
              "      fill: #1967D2;\n",
              "      height: 32px;\n",
              "      padding: 0 0 0 0;\n",
              "      width: 32px;\n",
              "    }\n",
              "\n",
              "    .colab-df-convert:hover {\n",
              "      background-color: #E2EBFA;\n",
              "      box-shadow: 0px 1px 2px rgba(60, 64, 67, 0.3), 0px 1px 3px 1px rgba(60, 64, 67, 0.15);\n",
              "      fill: #174EA6;\n",
              "    }\n",
              "\n",
              "    [theme=dark] .colab-df-convert {\n",
              "      background-color: #3B4455;\n",
              "      fill: #D2E3FC;\n",
              "    }\n",
              "\n",
              "    [theme=dark] .colab-df-convert:hover {\n",
              "      background-color: #434B5C;\n",
              "      box-shadow: 0px 1px 3px 1px rgba(0, 0, 0, 0.15);\n",
              "      filter: drop-shadow(0px 1px 2px rgba(0, 0, 0, 0.3));\n",
              "      fill: #FFFFFF;\n",
              "    }\n",
              "  </style>\n",
              "\n",
              "      <script>\n",
              "        const buttonEl =\n",
              "          document.querySelector('#df-69b05bb0-dcc9-4918-9c11-57a01ffc8565 button.colab-df-convert');\n",
              "        buttonEl.style.display =\n",
              "          google.colab.kernel.accessAllowed ? 'block' : 'none';\n",
              "\n",
              "        async function convertToInteractive(key) {\n",
              "          const element = document.querySelector('#df-69b05bb0-dcc9-4918-9c11-57a01ffc8565');\n",
              "          const dataTable =\n",
              "            await google.colab.kernel.invokeFunction('convertToInteractive',\n",
              "                                                     [key], {});\n",
              "          if (!dataTable) return;\n",
              "\n",
              "          const docLinkHtml = 'Like what you see? Visit the ' +\n",
              "            '<a target=\"_blank\" href=https://colab.research.google.com/notebooks/data_table.ipynb>data table notebook</a>'\n",
              "            + ' to learn more about interactive tables.';\n",
              "          element.innerHTML = '';\n",
              "          dataTable['output_type'] = 'display_data';\n",
              "          await google.colab.output.renderOutput(dataTable, element);\n",
              "          const docLink = document.createElement('div');\n",
              "          docLink.innerHTML = docLinkHtml;\n",
              "          element.appendChild(docLink);\n",
              "        }\n",
              "      </script>\n",
              "    </div>\n",
              "  </div>\n",
              "  "
            ]
          },
          "metadata": {},
          "execution_count": 97
        }
      ]
    },
    {
      "cell_type": "markdown",
      "source": [
        "## Task 5 Perform Textblob Sentiment Analysis on the reviews\n",
        "\n",
        "Append the results to the dataframe as a new column Textblob_polarity and Textblob_subjectivity."
      ],
      "metadata": {
        "id": "2gQIExHgT3DM"
      }
    },
    {
      "cell_type": "code",
      "source": [
        "# import Textblob\n"
      ],
      "metadata": {
        "id": "wk3YOHCeT522"
      },
      "execution_count": null,
      "outputs": []
    },
    {
      "cell_type": "code",
      "source": [
        "# output the sentiment for your first review\n"
      ],
      "metadata": {
        "colab": {
          "base_uri": "https://localhost:8080/"
        },
        "id": "6Ls_hvBDUHmV",
        "outputId": "410a3b04-ab2e-4899-eeab-4e469fb2dc87"
      },
      "execution_count": null,
      "outputs": [
        {
          "output_type": "stream",
          "name": "stdout",
          "text": [
            "Black Widow spins a tale of action, espionage ... and family.\n",
            "Sentiment(polarity=-0.033333333333333326, subjectivity=0.26666666666666666)\n"
          ]
        }
      ]
    },
    {
      "cell_type": "code",
      "source": [
        "# append the results to dataframe\n"
      ],
      "metadata": {
        "colab": {
          "base_uri": "https://localhost:8080/",
          "height": 288
        },
        "id": "Oe9lHydaUNSo",
        "outputId": "56353ba7-f6d5-4e1d-d2da-20531ceb2a70"
      },
      "execution_count": null,
      "outputs": [
        {
          "output_type": "execute_result",
          "data": {
            "text/plain": [
              "   release_date   movie_name  \\\n",
              "0          2022  Black Widow   \n",
              "1          2022  Black Widow   \n",
              "2          2022  Black Widow   \n",
              "3          2022  Black Widow   \n",
              "\n",
              "                                              review  VADER_compound  \\\n",
              "0  Black Widow spins a tale of action, espionage ...          0.0000   \n",
              "1  In all the ways that matter to an MCU fan, Bla...          0.3400   \n",
              "2  Black Widow never feels more than just a footn...         -0.2960   \n",
              "3  Black Widow is Marvels take on a somewhat sill...          0.8956   \n",
              "\n",
              "  VADER_sentiment  VADER_star  Textblob_polarity  Textblob_subjectivity  \n",
              "0         Neutral           3          -0.033333               0.266667  \n",
              "1         Postive           4           0.341667               0.626667  \n",
              "2        Negative           1           0.066667               0.411667  \n",
              "3         Postive           5          -0.009524               0.708333  "
            ],
            "text/html": [
              "\n",
              "  <div id=\"df-f461fb26-f6a4-4283-9a1c-94dbf9aba677\">\n",
              "    <div class=\"colab-df-container\">\n",
              "      <div>\n",
              "<style scoped>\n",
              "    .dataframe tbody tr th:only-of-type {\n",
              "        vertical-align: middle;\n",
              "    }\n",
              "\n",
              "    .dataframe tbody tr th {\n",
              "        vertical-align: top;\n",
              "    }\n",
              "\n",
              "    .dataframe thead th {\n",
              "        text-align: right;\n",
              "    }\n",
              "</style>\n",
              "<table border=\"1\" class=\"dataframe\">\n",
              "  <thead>\n",
              "    <tr style=\"text-align: right;\">\n",
              "      <th></th>\n",
              "      <th>release_date</th>\n",
              "      <th>movie_name</th>\n",
              "      <th>review</th>\n",
              "      <th>VADER_compound</th>\n",
              "      <th>VADER_sentiment</th>\n",
              "      <th>VADER_star</th>\n",
              "      <th>Textblob_polarity</th>\n",
              "      <th>Textblob_subjectivity</th>\n",
              "    </tr>\n",
              "  </thead>\n",
              "  <tbody>\n",
              "    <tr>\n",
              "      <th>0</th>\n",
              "      <td>2022</td>\n",
              "      <td>Black Widow</td>\n",
              "      <td>Black Widow spins a tale of action, espionage ...</td>\n",
              "      <td>0.0000</td>\n",
              "      <td>Neutral</td>\n",
              "      <td>3</td>\n",
              "      <td>-0.033333</td>\n",
              "      <td>0.266667</td>\n",
              "    </tr>\n",
              "    <tr>\n",
              "      <th>1</th>\n",
              "      <td>2022</td>\n",
              "      <td>Black Widow</td>\n",
              "      <td>In all the ways that matter to an MCU fan, Bla...</td>\n",
              "      <td>0.3400</td>\n",
              "      <td>Postive</td>\n",
              "      <td>4</td>\n",
              "      <td>0.341667</td>\n",
              "      <td>0.626667</td>\n",
              "    </tr>\n",
              "    <tr>\n",
              "      <th>2</th>\n",
              "      <td>2022</td>\n",
              "      <td>Black Widow</td>\n",
              "      <td>Black Widow never feels more than just a footn...</td>\n",
              "      <td>-0.2960</td>\n",
              "      <td>Negative</td>\n",
              "      <td>1</td>\n",
              "      <td>0.066667</td>\n",
              "      <td>0.411667</td>\n",
              "    </tr>\n",
              "    <tr>\n",
              "      <th>3</th>\n",
              "      <td>2022</td>\n",
              "      <td>Black Widow</td>\n",
              "      <td>Black Widow is Marvels take on a somewhat sill...</td>\n",
              "      <td>0.8956</td>\n",
              "      <td>Postive</td>\n",
              "      <td>5</td>\n",
              "      <td>-0.009524</td>\n",
              "      <td>0.708333</td>\n",
              "    </tr>\n",
              "  </tbody>\n",
              "</table>\n",
              "</div>\n",
              "      <button class=\"colab-df-convert\" onclick=\"convertToInteractive('df-f461fb26-f6a4-4283-9a1c-94dbf9aba677')\"\n",
              "              title=\"Convert this dataframe to an interactive table.\"\n",
              "              style=\"display:none;\">\n",
              "        \n",
              "  <svg xmlns=\"http://www.w3.org/2000/svg\" height=\"24px\"viewBox=\"0 0 24 24\"\n",
              "       width=\"24px\">\n",
              "    <path d=\"M0 0h24v24H0V0z\" fill=\"none\"/>\n",
              "    <path d=\"M18.56 5.44l.94 2.06.94-2.06 2.06-.94-2.06-.94-.94-2.06-.94 2.06-2.06.94zm-11 1L8.5 8.5l.94-2.06 2.06-.94-2.06-.94L8.5 2.5l-.94 2.06-2.06.94zm10 10l.94 2.06.94-2.06 2.06-.94-2.06-.94-.94-2.06-.94 2.06-2.06.94z\"/><path d=\"M17.41 7.96l-1.37-1.37c-.4-.4-.92-.59-1.43-.59-.52 0-1.04.2-1.43.59L10.3 9.45l-7.72 7.72c-.78.78-.78 2.05 0 2.83L4 21.41c.39.39.9.59 1.41.59.51 0 1.02-.2 1.41-.59l7.78-7.78 2.81-2.81c.8-.78.8-2.07 0-2.86zM5.41 20L4 18.59l7.72-7.72 1.47 1.35L5.41 20z\"/>\n",
              "  </svg>\n",
              "      </button>\n",
              "      \n",
              "  <style>\n",
              "    .colab-df-container {\n",
              "      display:flex;\n",
              "      flex-wrap:wrap;\n",
              "      gap: 12px;\n",
              "    }\n",
              "\n",
              "    .colab-df-convert {\n",
              "      background-color: #E8F0FE;\n",
              "      border: none;\n",
              "      border-radius: 50%;\n",
              "      cursor: pointer;\n",
              "      display: none;\n",
              "      fill: #1967D2;\n",
              "      height: 32px;\n",
              "      padding: 0 0 0 0;\n",
              "      width: 32px;\n",
              "    }\n",
              "\n",
              "    .colab-df-convert:hover {\n",
              "      background-color: #E2EBFA;\n",
              "      box-shadow: 0px 1px 2px rgba(60, 64, 67, 0.3), 0px 1px 3px 1px rgba(60, 64, 67, 0.15);\n",
              "      fill: #174EA6;\n",
              "    }\n",
              "\n",
              "    [theme=dark] .colab-df-convert {\n",
              "      background-color: #3B4455;\n",
              "      fill: #D2E3FC;\n",
              "    }\n",
              "\n",
              "    [theme=dark] .colab-df-convert:hover {\n",
              "      background-color: #434B5C;\n",
              "      box-shadow: 0px 1px 3px 1px rgba(0, 0, 0, 0.15);\n",
              "      filter: drop-shadow(0px 1px 2px rgba(0, 0, 0, 0.3));\n",
              "      fill: #FFFFFF;\n",
              "    }\n",
              "  </style>\n",
              "\n",
              "      <script>\n",
              "        const buttonEl =\n",
              "          document.querySelector('#df-f461fb26-f6a4-4283-9a1c-94dbf9aba677 button.colab-df-convert');\n",
              "        buttonEl.style.display =\n",
              "          google.colab.kernel.accessAllowed ? 'block' : 'none';\n",
              "\n",
              "        async function convertToInteractive(key) {\n",
              "          const element = document.querySelector('#df-f461fb26-f6a4-4283-9a1c-94dbf9aba677');\n",
              "          const dataTable =\n",
              "            await google.colab.kernel.invokeFunction('convertToInteractive',\n",
              "                                                     [key], {});\n",
              "          if (!dataTable) return;\n",
              "\n",
              "          const docLinkHtml = 'Like what you see? Visit the ' +\n",
              "            '<a target=\"_blank\" href=https://colab.research.google.com/notebooks/data_table.ipynb>data table notebook</a>'\n",
              "            + ' to learn more about interactive tables.';\n",
              "          element.innerHTML = '';\n",
              "          dataTable['output_type'] = 'display_data';\n",
              "          await google.colab.output.renderOutput(dataTable, element);\n",
              "          const docLink = document.createElement('div');\n",
              "          docLink.innerHTML = docLinkHtml;\n",
              "          element.appendChild(docLink);\n",
              "        }\n",
              "      </script>\n",
              "    </div>\n",
              "  </div>\n",
              "  "
            ]
          },
          "metadata": {},
          "execution_count": 100
        }
      ]
    },
    {
      "cell_type": "markdown",
      "source": [
        "## Task 6 Are the results from VADER and Textblob similar? Are they close to your (human) judgement? Which one is closer?"
      ],
      "metadata": {
        "id": "Nxz8QGP9U_Q4"
      }
    },
    {
      "cell_type": "markdown",
      "source": [
        "https://www.rottentomatoes.com/m/black_widow_2021"
      ],
      "metadata": {
        "id": "YWKH69L8VXqc"
      }
    }
  ]
}
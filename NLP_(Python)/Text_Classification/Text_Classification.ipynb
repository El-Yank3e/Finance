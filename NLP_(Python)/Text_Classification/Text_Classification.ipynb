{
  "nbformat": 4,
  "nbformat_minor": 0,
  "metadata": {
    "colab": {
      "name": "W4 assignment summer 2022.ipynb",
      "provenance": [],
      "collapsed_sections": []
    },
    "kernelspec": {
      "name": "python3",
      "display_name": "Python 3"
    },
    "language_info": {
      "name": "python"
    }
  },
  "cells": [
    {
      "cell_type": "markdown",
      "source": [
        "# Module 4 Assignment - Text Classification"
      ],
      "metadata": {
        "id": "ou4hiikxPGcq"
      }
    },
    {
      "cell_type": "markdown",
      "source": [
        "## Task 1: Perform imports and load the dataset listings_sm_1000_cleaned.csv into a pandas DataFrame and display the number of rows and columns, dataframe information including their non-null count and data type, and the first 5 records: "
      ],
      "metadata": {
        "id": "sLnOMY2bPJhD"
      }
    },
    {
      "cell_type": "code",
      "source": [
        "# enter your code:"
      ],
      "metadata": {
        "colab": {
          "base_uri": "https://localhost:8080/"
        },
        "id": "20YuHXhh1YY4",
        "outputId": "6501185d-8f92-463e-b32c-b93353840f35"
      },
      "execution_count": null,
      "outputs": [
        {
          "output_type": "execute_result",
          "data": {
            "text/plain": [
              "(1000, 9)"
            ]
          },
          "metadata": {},
          "execution_count": 154
        }
      ]
    },
    {
      "cell_type": "code",
      "source": [
        "# enter your code:"
      ],
      "metadata": {
        "colab": {
          "base_uri": "https://localhost:8080/"
        },
        "id": "GVFAqrxf1-xI",
        "outputId": "466fad50-353e-4a15-b5fd-82832cfa34b9"
      },
      "execution_count": null,
      "outputs": [
        {
          "output_type": "stream",
          "name": "stdout",
          "text": [
            "<class 'pandas.core.frame.DataFrame'>\n",
            "RangeIndex: 1000 entries, 0 to 999\n",
            "Data columns (total 9 columns):\n",
            " #   Column                  Non-Null Count  Dtype  \n",
            "---  ------                  --------------  -----  \n",
            " 0   id                      1000 non-null   int64  \n",
            " 1   accommodates            1000 non-null   int64  \n",
            " 2   bedrooms                1000 non-null   float64\n",
            " 3   beds                    1000 non-null   float64\n",
            " 4   description             1000 non-null   object \n",
            " 5   number_of_reviews       1000 non-null   int64  \n",
            " 6   num_host_response_rate  1000 non-null   float64\n",
            " 7   num_price               1000 non-null   float64\n",
            " 8   cat_price               1000 non-null   object \n",
            "dtypes: float64(4), int64(3), object(2)\n",
            "memory usage: 70.4+ KB\n"
          ]
        }
      ]
    },
    {
      "cell_type": "code",
      "source": [
        "# enter your code:"
      ],
      "metadata": {
        "colab": {
          "base_uri": "https://localhost:8080/",
          "height": 1000
        },
        "id": "KTh3a28q1gxM",
        "outputId": "3584fc04-fbd0-4272-801f-d479ef036b4b"
      },
      "execution_count": null,
      "outputs": [
        {
          "output_type": "execute_result",
          "data": {
            "text/plain": [
              "         id  accommodates  bedrooms  beds  \\\n",
              "0  43269141             2       1.0   1.0   \n",
              "1  41416518             2       1.0   1.0   \n",
              "2  24918413             4       2.0   2.0   \n",
              "3  45532645             4       2.0   2.0   \n",
              "4   2478188             4       1.0   2.0   \n",
              "\n",
              "                                                                                                                                                                                                                                                                                                                                                                                                                                                                                                                                                                                                                                                                                                                                                                                                                                                                                                                                                                                                                                description  \\\n",
              "0  Welcome to the Sofi Stadium House, Room # 4 of the 5 chic bedrooms we offer. <br />This private room and bathroom with keyless entry pad, is located in a boutique hotel style home, at fraction of the cost of a hotel room.<br />WALK TO SOFI STADIUM OR FORUM, SAVE $60-100 on PARKING. <br />Each room is cleaned with CDC/Covid approved methods, after each guest check out.  <br />To view all of our rooms click on my Airbnb profile.<br /><br /><b>The space</b><br />Location and style,  get ready to experience the best that Los Angeles has to offer. <br />Designed by an HGTV star, Sofi Stadium House was gutted and remodeled by one of top builders in Los Angeles.   With its boutique hotel feel, you'll find the house spacious, comfortable and well designed.  Enjoy fresh fruit from the citrus orchard, a glass of wine on either of the European style patios, or take a quick walk to Sofi Stadium or the Fabulous Forum.  You're very close to LAX,  in the center of the city,  making it easy to get eve   \n",
              "1  Discover the best of Los Angeles, with this one-bedroom Mid-Wilshire apartment. It’ll be easy to simply show up and start living in this fashionably Blueground furnished apartment with its fully-equipped kitchen, exquisite living room, and our dedicated, on-the-ground support. (#LAX247)<br /><br /><b>The space</b><br />As with any Blueground apartment, you’ll find a thoughtfully designed space complete with beautiful furniture and a fully-equipped kitchen in this one-bedroom property. And, thanks to our superior quality mattresses, luxury linens, and towels, you can relax knowing you’ll always feel comfortably at home. When you’re ready for some fun, you can take in the Los Angeles vibes or bring the entertainment to you with the premium wireless speaker or smart TV.  This apartment also offers in-floor laundry.<br /><br /><br />Amenities<br /><br />Building amenities unique to this one-bedroom apartment include an on-site:<br />  <br />- 24/7 Security<br />- In-Floor Laundry<br />- Pe   \n",
              "2  Experience Summer in this  Beachside California Craftsman Home w/ huge private yard and ocean views!  This Two story home exudes warmth and charm and is steps to the sand!  All bedrooms upstairs. Master bedroom has balcony with ocean view. There is a fully equipped office with ocean views. Eat in cooks kitchen as well as a tv/den with all the latest technology. Childrens toys, beach chairs and towels included. Weekly housekeeping included in rental price. Perfect Summer Beach Rental.<br /><br /><b>The space</b><br />Experience Summer in this  Beachside California Craftsman Home w/ huge private yard and ocean views!  This Two story home exudes warmth and charm and is steps to the sand!  All bedrooms upstairs. Master bedroom has balcony <br />with ocean view to enjoy your morning coffee or evening cocktail.  There is a fully equipped office with ocean views. Eat in cooks kitchen as well as a tv/den with all the latest technology. Childrens toys, beach chairs and towels included. Weekly h   \n",
              "3  A spacious, modern & clean 2BD/2BA set inside a charming & completely renovated building in DTLA. Close to EVERYTHING! It has all the essentials you'll need to make your visit in LA a comfy one! Within walking distance or a short drive to the Staples Center, LA Convention Center, and all of the best restaurants, bars, shops and galleries. Hands down, the best rooftop view of the skyline in DTLA! This building & loft is truly a gem! 2 bedrooms 2 full bathrooms Washer & Dryer in the unit Fresh clean towels and bath essentials provided. 1 45' Smart TV Kitchen essentials include coffee maker, appliances, dishes and pots & pans. Guests can access Rooftop from PH. There's a fire pit, BBQ grill and built in Bose speakers for your enjoyment. *Please inquire if parking is needed and we will accomodate 1 parking space for $15/night . *ONCE YOUR RESERVATION AND PARKING IS PAID, ALL DETAILS WILL BE PROVIDED IN CHECK-IN INSTRUCTIONS* *PETS* We welcome your furry guests for a small $25 fee. Inquire    \n",
              "4  A cozy home away from home, this private Los Feliz (1 bedroom, 1 bath) getaway guest house (with stunning hillside views and sunsets) looks and feels like you're in the woods. Perfect place to relax, unwind, and chillax.<br /><br /><b>The space</b><br />A cozy home away from home, this private Los Feliz (1 bedroom, 1 bath) getaway guest house (with stunning hillside views and sunsets) looks and feels like you're in the woods. <br /><br />Located in the hippest part of Los Angeles, it's 5-10 minutes away from an assortment of distinguished attractions. From the Greek Theater, the Hollywood sign and Griffith Observatory (which you can see from the private deck-terrace), to popular movie theaters, restaurants and bars of Silver Lake's Sunset Junction, this newly renovated 800-square foot gem offers you privacy, comfort, and solace. <br /><br />Nestled in the tranquil Franklin Hills of Los Feliz, this hideaway (which occupies the bottom part of a two-story duplex house) is perfect for a co   \n",
              "\n",
              "   number_of_reviews  num_host_response_rate  num_price cat_price  \n",
              "0                 34                   100.0      115.0       low  \n",
              "1                  0                   100.0      140.0       low  \n",
              "2                  1                   100.0      425.0      high  \n",
              "3                 89                    97.0      129.0       low  \n",
              "4                177                   100.0      160.0      high  "
            ],
            "text/html": [
              "\n",
              "  <div id=\"df-4c17706e-9b73-463c-8f08-8525deb34cb5\">\n",
              "    <div class=\"colab-df-container\">\n",
              "      <div>\n",
              "<style scoped>\n",
              "    .dataframe tbody tr th:only-of-type {\n",
              "        vertical-align: middle;\n",
              "    }\n",
              "\n",
              "    .dataframe tbody tr th {\n",
              "        vertical-align: top;\n",
              "    }\n",
              "\n",
              "    .dataframe thead th {\n",
              "        text-align: right;\n",
              "    }\n",
              "</style>\n",
              "<table border=\"1\" class=\"dataframe\">\n",
              "  <thead>\n",
              "    <tr style=\"text-align: right;\">\n",
              "      <th></th>\n",
              "      <th>id</th>\n",
              "      <th>accommodates</th>\n",
              "      <th>bedrooms</th>\n",
              "      <th>beds</th>\n",
              "      <th>description</th>\n",
              "      <th>number_of_reviews</th>\n",
              "      <th>num_host_response_rate</th>\n",
              "      <th>num_price</th>\n",
              "      <th>cat_price</th>\n",
              "    </tr>\n",
              "  </thead>\n",
              "  <tbody>\n",
              "    <tr>\n",
              "      <th>0</th>\n",
              "      <td>43269141</td>\n",
              "      <td>2</td>\n",
              "      <td>1.0</td>\n",
              "      <td>1.0</td>\n",
              "      <td>Welcome to the Sofi Stadium House, Room # 4 of the 5 chic bedrooms we offer. &lt;br /&gt;This private room and bathroom with keyless entry pad, is located in a boutique hotel style home, at fraction of the cost of a hotel room.&lt;br /&gt;WALK TO SOFI STADIUM OR FORUM, SAVE $60-100 on PARKING. &lt;br /&gt;Each room is cleaned with CDC/Covid approved methods, after each guest check out.  &lt;br /&gt;To view all of our rooms click on my Airbnb profile.&lt;br /&gt;&lt;br /&gt;&lt;b&gt;The space&lt;/b&gt;&lt;br /&gt;Location and style,  get ready to experience the best that Los Angeles has to offer. &lt;br /&gt;Designed by an HGTV star, Sofi Stadium House was gutted and remodeled by one of top builders in Los Angeles.   With its boutique hotel feel, you'll find the house spacious, comfortable and well designed.  Enjoy fresh fruit from the citrus orchard, a glass of wine on either of the European style patios, or take a quick walk to Sofi Stadium or the Fabulous Forum.  You're very close to LAX,  in the center of the city,  making it easy to get eve</td>\n",
              "      <td>34</td>\n",
              "      <td>100.0</td>\n",
              "      <td>115.0</td>\n",
              "      <td>low</td>\n",
              "    </tr>\n",
              "    <tr>\n",
              "      <th>1</th>\n",
              "      <td>41416518</td>\n",
              "      <td>2</td>\n",
              "      <td>1.0</td>\n",
              "      <td>1.0</td>\n",
              "      <td>Discover the best of Los Angeles, with this one-bedroom Mid-Wilshire apartment. It’ll be easy to simply show up and start living in this fashionably Blueground furnished apartment with its fully-equipped kitchen, exquisite living room, and our dedicated, on-the-ground support. (#LAX247)&lt;br /&gt;&lt;br /&gt;&lt;b&gt;The space&lt;/b&gt;&lt;br /&gt;As with any Blueground apartment, you’ll find a thoughtfully designed space complete with beautiful furniture and a fully-equipped kitchen in this one-bedroom property. And, thanks to our superior quality mattresses, luxury linens, and towels, you can relax knowing you’ll always feel comfortably at home. When you’re ready for some fun, you can take in the Los Angeles vibes or bring the entertainment to you with the premium wireless speaker or smart TV.  This apartment also offers in-floor laundry.&lt;br /&gt;&lt;br /&gt;&lt;br /&gt;Amenities&lt;br /&gt;&lt;br /&gt;Building amenities unique to this one-bedroom apartment include an on-site:&lt;br /&gt;  &lt;br /&gt;- 24/7 Security&lt;br /&gt;- In-Floor Laundry&lt;br /&gt;- Pe</td>\n",
              "      <td>0</td>\n",
              "      <td>100.0</td>\n",
              "      <td>140.0</td>\n",
              "      <td>low</td>\n",
              "    </tr>\n",
              "    <tr>\n",
              "      <th>2</th>\n",
              "      <td>24918413</td>\n",
              "      <td>4</td>\n",
              "      <td>2.0</td>\n",
              "      <td>2.0</td>\n",
              "      <td>Experience Summer in this  Beachside California Craftsman Home w/ huge private yard and ocean views!  This Two story home exudes warmth and charm and is steps to the sand!  All bedrooms upstairs. Master bedroom has balcony with ocean view. There is a fully equipped office with ocean views. Eat in cooks kitchen as well as a tv/den with all the latest technology. Childrens toys, beach chairs and towels included. Weekly housekeeping included in rental price. Perfect Summer Beach Rental.&lt;br /&gt;&lt;br /&gt;&lt;b&gt;The space&lt;/b&gt;&lt;br /&gt;Experience Summer in this  Beachside California Craftsman Home w/ huge private yard and ocean views!  This Two story home exudes warmth and charm and is steps to the sand!  All bedrooms upstairs. Master bedroom has balcony &lt;br /&gt;with ocean view to enjoy your morning coffee or evening cocktail.  There is a fully equipped office with ocean views. Eat in cooks kitchen as well as a tv/den with all the latest technology. Childrens toys, beach chairs and towels included. Weekly h</td>\n",
              "      <td>1</td>\n",
              "      <td>100.0</td>\n",
              "      <td>425.0</td>\n",
              "      <td>high</td>\n",
              "    </tr>\n",
              "    <tr>\n",
              "      <th>3</th>\n",
              "      <td>45532645</td>\n",
              "      <td>4</td>\n",
              "      <td>2.0</td>\n",
              "      <td>2.0</td>\n",
              "      <td>A spacious, modern &amp; clean 2BD/2BA set inside a charming &amp; completely renovated building in DTLA. Close to EVERYTHING! It has all the essentials you'll need to make your visit in LA a comfy one! Within walking distance or a short drive to the Staples Center, LA Convention Center, and all of the best restaurants, bars, shops and galleries. Hands down, the best rooftop view of the skyline in DTLA! This building &amp; loft is truly a gem! 2 bedrooms 2 full bathrooms Washer &amp; Dryer in the unit Fresh clean towels and bath essentials provided. 1 45' Smart TV Kitchen essentials include coffee maker, appliances, dishes and pots &amp; pans. Guests can access Rooftop from PH. There's a fire pit, BBQ grill and built in Bose speakers for your enjoyment. *Please inquire if parking is needed and we will accomodate 1 parking space for $15/night . *ONCE YOUR RESERVATION AND PARKING IS PAID, ALL DETAILS WILL BE PROVIDED IN CHECK-IN INSTRUCTIONS* *PETS* We welcome your furry guests for a small $25 fee. Inquire</td>\n",
              "      <td>89</td>\n",
              "      <td>97.0</td>\n",
              "      <td>129.0</td>\n",
              "      <td>low</td>\n",
              "    </tr>\n",
              "    <tr>\n",
              "      <th>4</th>\n",
              "      <td>2478188</td>\n",
              "      <td>4</td>\n",
              "      <td>1.0</td>\n",
              "      <td>2.0</td>\n",
              "      <td>A cozy home away from home, this private Los Feliz (1 bedroom, 1 bath) getaway guest house (with stunning hillside views and sunsets) looks and feels like you're in the woods. Perfect place to relax, unwind, and chillax.&lt;br /&gt;&lt;br /&gt;&lt;b&gt;The space&lt;/b&gt;&lt;br /&gt;A cozy home away from home, this private Los Feliz (1 bedroom, 1 bath) getaway guest house (with stunning hillside views and sunsets) looks and feels like you're in the woods. &lt;br /&gt;&lt;br /&gt;Located in the hippest part of Los Angeles, it's 5-10 minutes away from an assortment of distinguished attractions. From the Greek Theater, the Hollywood sign and Griffith Observatory (which you can see from the private deck-terrace), to popular movie theaters, restaurants and bars of Silver Lake's Sunset Junction, this newly renovated 800-square foot gem offers you privacy, comfort, and solace. &lt;br /&gt;&lt;br /&gt;Nestled in the tranquil Franklin Hills of Los Feliz, this hideaway (which occupies the bottom part of a two-story duplex house) is perfect for a co</td>\n",
              "      <td>177</td>\n",
              "      <td>100.0</td>\n",
              "      <td>160.0</td>\n",
              "      <td>high</td>\n",
              "    </tr>\n",
              "  </tbody>\n",
              "</table>\n",
              "</div>\n",
              "      <button class=\"colab-df-convert\" onclick=\"convertToInteractive('df-4c17706e-9b73-463c-8f08-8525deb34cb5')\"\n",
              "              title=\"Convert this dataframe to an interactive table.\"\n",
              "              style=\"display:none;\">\n",
              "        \n",
              "  <svg xmlns=\"http://www.w3.org/2000/svg\" height=\"24px\"viewBox=\"0 0 24 24\"\n",
              "       width=\"24px\">\n",
              "    <path d=\"M0 0h24v24H0V0z\" fill=\"none\"/>\n",
              "    <path d=\"M18.56 5.44l.94 2.06.94-2.06 2.06-.94-2.06-.94-.94-2.06-.94 2.06-2.06.94zm-11 1L8.5 8.5l.94-2.06 2.06-.94-2.06-.94L8.5 2.5l-.94 2.06-2.06.94zm10 10l.94 2.06.94-2.06 2.06-.94-2.06-.94-.94-2.06-.94 2.06-2.06.94z\"/><path d=\"M17.41 7.96l-1.37-1.37c-.4-.4-.92-.59-1.43-.59-.52 0-1.04.2-1.43.59L10.3 9.45l-7.72 7.72c-.78.78-.78 2.05 0 2.83L4 21.41c.39.39.9.59 1.41.59.51 0 1.02-.2 1.41-.59l7.78-7.78 2.81-2.81c.8-.78.8-2.07 0-2.86zM5.41 20L4 18.59l7.72-7.72 1.47 1.35L5.41 20z\"/>\n",
              "  </svg>\n",
              "      </button>\n",
              "      \n",
              "  <style>\n",
              "    .colab-df-container {\n",
              "      display:flex;\n",
              "      flex-wrap:wrap;\n",
              "      gap: 12px;\n",
              "    }\n",
              "\n",
              "    .colab-df-convert {\n",
              "      background-color: #E8F0FE;\n",
              "      border: none;\n",
              "      border-radius: 50%;\n",
              "      cursor: pointer;\n",
              "      display: none;\n",
              "      fill: #1967D2;\n",
              "      height: 32px;\n",
              "      padding: 0 0 0 0;\n",
              "      width: 32px;\n",
              "    }\n",
              "\n",
              "    .colab-df-convert:hover {\n",
              "      background-color: #E2EBFA;\n",
              "      box-shadow: 0px 1px 2px rgba(60, 64, 67, 0.3), 0px 1px 3px 1px rgba(60, 64, 67, 0.15);\n",
              "      fill: #174EA6;\n",
              "    }\n",
              "\n",
              "    [theme=dark] .colab-df-convert {\n",
              "      background-color: #3B4455;\n",
              "      fill: #D2E3FC;\n",
              "    }\n",
              "\n",
              "    [theme=dark] .colab-df-convert:hover {\n",
              "      background-color: #434B5C;\n",
              "      box-shadow: 0px 1px 3px 1px rgba(0, 0, 0, 0.15);\n",
              "      filter: drop-shadow(0px 1px 2px rgba(0, 0, 0, 0.3));\n",
              "      fill: #FFFFFF;\n",
              "    }\n",
              "  </style>\n",
              "\n",
              "      <script>\n",
              "        const buttonEl =\n",
              "          document.querySelector('#df-4c17706e-9b73-463c-8f08-8525deb34cb5 button.colab-df-convert');\n",
              "        buttonEl.style.display =\n",
              "          google.colab.kernel.accessAllowed ? 'block' : 'none';\n",
              "\n",
              "        async function convertToInteractive(key) {\n",
              "          const element = document.querySelector('#df-4c17706e-9b73-463c-8f08-8525deb34cb5');\n",
              "          const dataTable =\n",
              "            await google.colab.kernel.invokeFunction('convertToInteractive',\n",
              "                                                     [key], {});\n",
              "          if (!dataTable) return;\n",
              "\n",
              "          const docLinkHtml = 'Like what you see? Visit the ' +\n",
              "            '<a target=\"_blank\" href=https://colab.research.google.com/notebooks/data_table.ipynb>data table notebook</a>'\n",
              "            + ' to learn more about interactive tables.';\n",
              "          element.innerHTML = '';\n",
              "          dataTable['output_type'] = 'display_data';\n",
              "          await google.colab.output.renderOutput(dataTable, element);\n",
              "          const docLink = document.createElement('div');\n",
              "          docLink.innerHTML = docLinkHtml;\n",
              "          element.appendChild(docLink);\n",
              "        }\n",
              "      </script>\n",
              "    </div>\n",
              "  </div>\n",
              "  "
            ]
          },
          "metadata": {},
          "execution_count": 156
        }
      ]
    },
    {
      "cell_type": "markdown",
      "source": [
        "## Task 2: Display the last Airbnb property's description including its full text:"
      ],
      "metadata": {
        "id": "wD02iYiHPM-_"
      }
    },
    {
      "cell_type": "code",
      "source": [
        "# enter your code to display the following:"
      ],
      "metadata": {
        "colab": {
          "base_uri": "https://localhost:8080/",
          "height": 219
        },
        "id": "fxCsRcCY3av2",
        "outputId": "cfa1015d-d12d-407f-9da7-6cfebc37aadf"
      },
      "execution_count": null,
      "outputs": [
        {
          "output_type": "display_data",
          "data": {
            "text/plain": [
              "<IPython.core.display.Markdown object>"
            ],
            "text/markdown": "> Enjoy this private and light-filled home. Located in the hip Echo Park neighborhood (walking distance to Valerie Bakery and Cookbook!) this spacious home is perfect for a large group. In addition to its backyard oasis with gorgeous, meditational views, there are 2 bright and comfortable bedrooms, each furnished with a queen-size bed. *Fast WiFi *<br />COVID-19 UPDATE: Your safety is our top priority. We take serious measures in ensuring that the home is clean and sanitized before you check in.<br /><br /><b>The space</b><br />This traditional Echo Park hills home welcomes natural light throughout, highlighting new top quality solid maple hardwood floors. Its open kitchen features new stainless steel appliances (refrigerator, stove/convection oven/hood, dishwasher, and sink), renovated handcrafted solid oak cabinets, new floor tile, and newly installed recessed lighting, while retaining its original charm. Windows abound the open dining area which overlooks an expansive backyard. Origin"
          },
          "metadata": {}
        }
      ]
    },
    {
      "cell_type": "code",
      "source": [
        "# or this following format is fine too: "
      ],
      "metadata": {
        "colab": {
          "base_uri": "https://localhost:8080/",
          "height": 143
        },
        "id": "l3Lg5usM3kqH",
        "outputId": "774cac8a-79b3-4a03-d97d-f229f199e0d1"
      },
      "execution_count": null,
      "outputs": [
        {
          "output_type": "execute_result",
          "data": {
            "text/plain": [
              "'Enjoy this private and light-filled home. Located in the hip Echo Park neighborhood (walking distance to Valerie Bakery and Cookbook!) this spacious home is perfect for a large group. In addition to its backyard oasis with gorgeous, meditational views, there are 2 bright and comfortable bedrooms, each furnished with a queen-size bed. *Fast WiFi *<br />COVID-19 UPDATE: Your safety is our top priority. We take serious measures in ensuring that the home is clean and sanitized before you check in.<br /><br /><b>The space</b><br />This traditional Echo Park hills home welcomes natural light throughout, highlighting new top quality solid maple hardwood floors. Its open kitchen features new stainless steel appliances (refrigerator, stove/convection oven/hood, dishwasher, and sink), renovated handcrafted solid oak cabinets, new floor tile, and newly installed recessed lighting, while retaining its original charm. Windows abound the open dining area which overlooks an expansive backyard. Origin'"
            ],
            "application/vnd.google.colaboratory.intrinsic+json": {
              "type": "string"
            }
          },
          "metadata": {},
          "execution_count": 161
        }
      ]
    },
    {
      "cell_type": "markdown",
      "source": [
        "## Task 3: Split the data into train & test sets, use .30 for the test set and 42 for the random_state:"
      ],
      "metadata": {
        "id": "wpxEqYBjPPGl"
      }
    },
    {
      "cell_type": "code",
      "source": [
        "# enter your code:"
      ],
      "metadata": {
        "id": "TTej6duNPSOW"
      },
      "execution_count": null,
      "outputs": []
    },
    {
      "cell_type": "markdown",
      "source": [
        "## Task 4: Build a pipeline to vectorize the data, then train and fit at least THREE different classification models, for example, Naive Bayes, Linear SVC, and Logistic Regression."
      ],
      "metadata": {
        "id": "GSSxaK6-PSWi"
      }
    },
    {
      "cell_type": "code",
      "source": [
        "# enter your code:"
      ],
      "metadata": {
        "id": "Gt0bqQOnPU7Q"
      },
      "execution_count": null,
      "outputs": []
    },
    {
      "cell_type": "markdown",
      "source": [
        "## Task 5: Run predictions and analyze the results (the usual ones: accuracy, f1, confusion matrix), which model is the best? Is the best model better than the baseline?"
      ],
      "metadata": {
        "id": "rR9k8YQbPZV6"
      }
    },
    {
      "cell_type": "code",
      "source": [
        "# enter your code:"
      ],
      "metadata": {
        "id": "8pLfzK93PZxp"
      },
      "execution_count": null,
      "outputs": []
    },
    {
      "cell_type": "markdown",
      "source": [
        "Enter your conclusion:"
      ],
      "metadata": {
        "id": "vc2FPQqnUF7m"
      }
    }
  ]
}